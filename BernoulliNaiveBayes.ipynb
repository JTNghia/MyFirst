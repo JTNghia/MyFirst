{
  "nbformat": 4,
  "nbformat_minor": 0,
  "metadata": {
    "colab": {
      "name": "BernoulliNaiveBayes.ipynb",
      "provenance": [],
      "collapsed_sections": [],
      "authorship_tag": "ABX9TyM5aQrZURAm20pyu9W4H2dZ",
      "include_colab_link": true
    },
    "kernelspec": {
      "name": "python3",
      "display_name": "Python 3"
    }
  },
  "cells": [
    {
      "cell_type": "markdown",
      "metadata": {
        "id": "view-in-github",
        "colab_type": "text"
      },
      "source": [
        "<a href=\"https://colab.research.google.com/github/JTNghia/MyFirst/blob/master/BernoulliNaiveBayes.ipynb\" target=\"_parent\"><img src=\"https://colab.research.google.com/assets/colab-badge.svg\" alt=\"Open In Colab\"/></a>"
      ]
    },
    {
      "cell_type": "code",
      "metadata": {
        "id": "2AhZ_mxmnlLb"
      },
      "source": [
        "!pip install --upgrade gspread"
      ],
      "execution_count": null,
      "outputs": []
    },
    {
      "cell_type": "code",
      "metadata": {
        "id": "qDCdBVbA6dmj"
      },
      "source": [
        "# sub-function\n",
        "def ListNList(n):\n",
        "  lst = []\n",
        "  for i in range(n):\n",
        "    lst.append([])\n",
        "  return lst"
      ],
      "execution_count": null,
      "outputs": []
    },
    {
      "cell_type": "code",
      "metadata": {
        "id": "lyiAp5X4nlLD",
        "outputId": "666bcb4b-b0b1-4197-a08a-7ef7068c8681",
        "colab": {
          "base_uri": "https://localhost:8080/"
        }
      },
      "source": [
        "from google.colab import auth\n",
        "auth.authenticate_user()\n",
        "\n",
        "import gspread\n",
        "from oauth2client.client import GoogleCredentials\n",
        "\n",
        "gc = gspread.authorize(GoogleCredentials.get_application_default())\n",
        "\n",
        "worksheet = gc.open_by_key('1opQmyjWkUlmdT8LGz8TekIWhR01lWA_ne3C1nzp5uYk').sheet1\n",
        "worksheet2 = gc.open_by_key('1EbKcaDmt1DFrMLrNnDvzLvG1egEG3qSi-EvCDNXOYFU').sheet1\n",
        "# get_all_values gives a list of rows.\n",
        "rows = worksheet.get_all_values()\n",
        "rows2 = worksheet2.get_all_values()\n",
        "# convert to numpy nd.array\n",
        "import numpy as np\n",
        "train_data = np.array(rows, dtype = str)\n",
        "train_data = train_data[1:,1:]\n",
        "test_data = np.array(rows2, dtype = str)\n",
        "test_data = test_data[1:,1:].astype(np.float64)\n",
        "# set labels\n",
        "labels = {i:i for i in train_data[:,-1]}\n",
        "labels = {f:i for i,f in enumerate(labels.keys())}\n",
        "# prepare training data\n",
        "idata = ListNList(len(labels))\n",
        "\n",
        "for i in range(len(train_data)):\n",
        "  tlabel = train_data[i,-1]\n",
        "  x = labels[tlabel]\n",
        "  idata[x].append(train_data[i,:-1].astype(np.float64))\n",
        "idata = np.array(idata)\n",
        "\n",
        "P = np.array([len(i) for i in idata],dtype = np.float64)\n",
        "for i in range(len(idata)):\n",
        "  idata[i] = np.sum(idata[i],axis=0)\n",
        "idata = idata/P\n",
        "# calculate and predict\n",
        "for i in range(len(test_data)):\n",
        "  p_ = test_data[i]*idata[i] + (1-idata[i])*(1-test_data[i])\n",
        "  print(np.prod(p_))\n"
      ],
      "execution_count": null,
      "outputs": [
        {
          "output_type": "stream",
          "text": [
            "0.0234375\n"
          ],
          "name": "stdout"
        }
      ]
    },
    {
      "cell_type": "code",
      "metadata": {
        "id": "mb8fhbXuKjyv",
        "outputId": "7953613a-d115-4abd-e3ad-52730b978fe1",
        "colab": {
          "base_uri": "https://localhost:8080/"
        }
      },
      "source": [
        "a = np.array([3,7,8])\n",
        "print(-a)"
      ],
      "execution_count": null,
      "outputs": [
        {
          "output_type": "stream",
          "text": [
            "[-3 -7 -8]\n"
          ],
          "name": "stdout"
        }
      ]
    }
  ]
}